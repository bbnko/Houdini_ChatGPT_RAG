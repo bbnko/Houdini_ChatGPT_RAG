{
  "nbformat": 4,
  "nbformat_minor": 0,
  "metadata": {
    "colab": {
      "provenance": []
    },
    "kernelspec": {
      "name": "python3",
      "display_name": "Python 3"
    },
    "language_info": {
      "name": "python"
    }
  },
  "cells": [
    {
      "cell_type": "markdown",
      "source": [
        "# Mount drive"
      ],
      "metadata": {
        "id": "PjQ_zzceA7Vo"
      }
    },
    {
      "cell_type": "code",
      "source": [
        "from google.colab import drive\n",
        "drive.mount('/content/drive')"
      ],
      "metadata": {
        "id": "dWUdNJiSA7Gi",
        "outputId": "485f9ac8-a4ca-41b2-f07a-38d331373ee4",
        "colab": {
          "base_uri": "https://localhost:8080/"
        }
      },
      "execution_count": 1,
      "outputs": [
        {
          "output_type": "stream",
          "name": "stdout",
          "text": [
            "Mounted at /content/drive\n"
          ]
        }
      ]
    },
    {
      "cell_type": "markdown",
      "source": [
        "# Scraping a web page with documentation"
      ],
      "metadata": {
        "id": "v2LrRul4A0LY"
      }
    },
    {
      "cell_type": "code",
      "execution_count": 2,
      "metadata": {
        "id": "TQTBX8XyAaRT"
      },
      "outputs": [],
      "source": [
        "import requests\n",
        "from bs4 import BeautifulSoup\n",
        "import re\n",
        "\n",
        "urls = ['https://tokeru.com/cgwiki/HoudiniGettingStarted.html', 'https://tokeru.com/cgwiki/Houdini.html', 'https://tokeru.com/cgwiki/HoudiniChops.html', 'https://tokeru.com/cgwiki/HoudiniCops.html', 'https://tokeru.com/cgwiki/HoudiniCrowd.html', 'https://tokeru.com/cgwiki/HoudiniDops.html', 'https://tokeru.com/cgwiki/HoudiniFAQ.html', 'https://tokeru.com/cgwiki/HoudiniHair.html', 'https://tokeru.com/cgwiki/HoudiniHDA.html', 'https://tokeru.com/cgwiki/HoudiniKinefx.html', 'https://tokeru.com/cgwiki/Houdini_Lighting_Shading.html', 'https://tokeru.com/cgwiki/HoudiniLops.html', 'https://tokeru.com/cgwiki/HoudiniPython.html', 'https://tokeru.com/cgwiki/HoudiniTops.html', 'https://tokeru.com/cgwiki/HoudiniUserInterfaceTips.html', 'https://tokeru.com/cgwiki/HoudiniVellum.html', 'https://tokeru.com/cgwiki/HoudiniVex1.html', 'https://tokeru.com/cgwiki/HoudiniVex2.html', 'https://tokeru.com/cgwiki/HoudiniVex3.html', 'https://tokeru.com/cgwiki/HoudiniVolumes.html', 'https://tokeru.com/cgwiki/Houdini_Vops.html']\n",
        "\n",
        "\n",
        "def scrape_webpage(url):\n",
        "    # Fetch the webpage content\n",
        "    response = requests.get(url)\n",
        "    # Parse the content using BeautifulSoup\n",
        "    soup = BeautifulSoup(response.text, 'html.parser')\n",
        "\n",
        "    # Find the first occurrence of h\n",
        "    first_heading = soup.find(['h1','h2', 'h3', 'h4'])\n",
        "    if not first_heading:\n",
        "        return [\"No h1-4 tags found\"]\n",
        "\n",
        "    # Collect parts starting from the first h\n",
        "    parts = []\n",
        "    current_part = [first_heading.text]  # start with the first heading text\n",
        "\n",
        "    # Iterate over next siblings of the first heading\n",
        "    for sibling in first_heading.next_siblings:\n",
        "        if sibling.name in ['h1','h2', 'h3', 'h4']:\n",
        "            # When a new h is found, store the current part and start a new one\n",
        "            parts.append(' '.join(current_part))\n",
        "            current_part = [sibling.text]  # start new part with the heading text\n",
        "        elif sibling.name:\n",
        "            # Add text from other elements\n",
        "            current_part.append(sibling.get_text(strip=True))\n",
        "\n",
        "    # Append the last part collected\n",
        "    if current_part:\n",
        "        parts.append(' '.join(current_part))\n",
        "\n",
        "    return parts\n",
        "\n",
        "# Call the function and print the result\n",
        "parts = []\n",
        "\n",
        "for url in urls:\n",
        "    parts += scrape_webpage(url)\n",
        "\n",
        "\n",
        "\n",
        "\n",
        "#Cleaning\n",
        "def clean_text(text):\n",
        "    # Regular expression to identify URLs\n",
        "    url_pattern = r'(https?://[^\\s]+)'\n",
        "    # Find all URLs using regex\n",
        "    urls = re.findall(url_pattern, text)\n",
        "\n",
        "    # Create a dictionary to replace non-ASCII characters in the rest of the text while preserving URLs\n",
        "    preserved_urls = {url: f\"URL_{i}\" for i, url in enumerate(urls)}\n",
        "\n",
        "    # Replace URLs with placeholders to avoid accidental modification\n",
        "    for url, placeholder in preserved_urls.items():\n",
        "        text = text.replace(url, placeholder)\n",
        "\n",
        "    # Remove non-ASCII characters\n",
        "    text = re.sub(r'[^\\x00-\\x7F]+', '', text)\n",
        "\n",
        "    # Restore URLs from placeholders\n",
        "    for placeholder, url in preserved_urls.items():\n",
        "        text = text.replace(placeholder, url)\n",
        "\n",
        "    return text\n",
        "\n",
        "for i in range(len(parts)):\n",
        "    parts[i] = clean_text(parts[i])"
      ]
    },
    {
      "cell_type": "markdown",
      "source": [
        "# Saving scraped corpus"
      ],
      "metadata": {
        "id": "wpwvJv_9BMWT"
      }
    },
    {
      "cell_type": "code",
      "source": [
        "with open('drive/MyDrive/Colab/docs/houdini_dataset.txt', 'w') as file:\n",
        "    # Iterate over each string in the list\n",
        "    for item in parts:\n",
        "        # Write each string to the file followed by a newline\n",
        "        file.write(item + '\\n')"
      ],
      "metadata": {
        "id": "jbu9fbgtBJFS"
      },
      "execution_count": 3,
      "outputs": []
    }
  ]
}